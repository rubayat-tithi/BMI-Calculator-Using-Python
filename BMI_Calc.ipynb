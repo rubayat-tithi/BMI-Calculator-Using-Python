#asking_for_input_from_the_users

height = float(input("Enter the height in cm: "))  
weight = float(input("Enter the weight in kg: "))

#defining_a_function_for_BMI  
BMI = weight / (height/100)**2  

#printing_the_BMI  
print("Your Body Mass Index is", BMI)  

#using_the_if_elif_else_conditions  

if BMI <= 18.5:  
    print("Oops! You are underweight.")  
elif BMI <= 24.9:  
    print("Awesome! You are healthy.")  
elif BMI <= 29.9:  
    print("Sorry! You are over weight.")  
else:  
    print("Uh! Oh!  You are obese.")
